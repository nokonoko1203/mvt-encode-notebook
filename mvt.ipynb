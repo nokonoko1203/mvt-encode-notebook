{
 "cells": [
  {
   "cell_type": "code",
   "execution_count": 1,
   "metadata": {},
   "outputs": [
    {
     "name": "stderr",
     "output_type": "stream",
     "text": [
      "/Users/satoru/github.com/nokonoko1203/0002_study/mvt-encode-notebook/.venv/lib/python3.10/site-packages/google/protobuf/runtime_version.py:98: UserWarning: Protobuf gencode version 5.29.3 is exactly one major version older than the runtime version 6.30.2 at vector_tile.proto. Please update the gencode to avoid compatibility violations in the next runtime release.\n",
      "  warnings.warn(\n"
     ]
    }
   ],
   "source": [
    "import os\n",
    "import sys\n",
    "\n",
    "import vector_tile_pb2"
   ]
  },
  {
   "cell_type": "code",
   "execution_count": 2,
   "metadata": {},
   "outputs": [],
   "source": [
    "# --- ZigZag エンコーディング ---\n",
    "def zigzag_encode(n):\n",
    "    \"\"\"整数をZigZagエンコードする\"\"\"\n",
    "    return (n << 1) ^ (n >> 31)  # 32ビット想定。より大きな整数を扱う場合は調整が必要\n",
    "\n",
    "\n",
    "# --- ジオメトリコマンドとパラメータのエンコードヘルパー ---\n",
    "def encode_command_integer(command_id, count):\n",
    "    \"\"\"コマンドIDとパラメータ数をエンコード\"\"\"\n",
    "    return (command_id & 0x7) | (count << 3)\n",
    "\n",
    "\n",
    "def encode_parameter_integer(value):\n",
    "    \"\"\"座標値をZigZagエンコード\"\"\"\n",
    "    return zigzag_encode(value)"
   ]
  },
  {
   "cell_type": "code",
   "execution_count": 3,
   "metadata": {},
   "outputs": [],
   "source": [
    "tile = vector_tile_pb2.Tile()\n",
    "layer = tile.layers.add()"
   ]
  },
  {
   "cell_type": "code",
   "execution_count": 4,
   "metadata": {},
   "outputs": [],
   "source": [
    "# --- レイヤー情報 ---\n",
    "layer.version = 2\n",
    "layer.name = \"sample_layer\"\n",
    "layer.extent = 4096"
   ]
  },
  {
   "cell_type": "code",
   "execution_count": 5,
   "metadata": {},
   "outputs": [],
   "source": [
    "# --- フィーチャ (矩形ポリゴン) ---\n",
    "feature = layer.features.add()\n",
    "feature.id = 1  # フィーチャID (任意)\n",
    "feature.type = vector_tile_pb2.Tile.POLYGON  # ジオメトリタイプ"
   ]
  },
  {
   "cell_type": "code",
   "execution_count": 6,
   "metadata": {},
   "outputs": [],
   "source": [
    "# --- ジオメトリコマンドの作成 ---\n",
    "geometry = []\n",
    "cursor_x, cursor_y = 0, 0  # 現在のカーソル位置 (差分計算用)"
   ]
  },
  {
   "cell_type": "code",
   "execution_count": 7,
   "metadata": {},
   "outputs": [],
   "source": [
    "# 1. MoveTo(100, 100)\n",
    "cmd_move_to = encode_command_integer(1, 1)  # Command ID = 1 (MoveTo), Count = 1\n",
    "param_x = encode_parameter_integer(100)\n",
    "param_y = encode_parameter_integer(100)\n",
    "geometry.extend([cmd_move_to, param_x, param_y])\n",
    "cursor_x, cursor_y = 100, 100\n",
    "\n",
    "# 2. LineTo(200, 100), LineTo(200, 200), LineTo(100, 200) をまとめて指定\n",
    "# LineTo は複数点をまとめて指定できる\n",
    "cmd_line_to = encode_command_integer(2, 3)  # Command ID = 2 (LineTo), Count = 3\n",
    "geometry.append(cmd_line_to)\n",
    "\n",
    "# LineTo(200, 100) の相対座標 (+100, 0)\n",
    "dx1 = 200 - cursor_x\n",
    "dy1 = 100 - cursor_y\n",
    "geometry.extend([encode_parameter_integer(dx1), encode_parameter_integer(dy1)])\n",
    "cursor_x, cursor_y = 200, 100\n",
    "\n",
    "# LineTo(200, 200) の相対座標 (0, +100)\n",
    "dx2 = 200 - cursor_x\n",
    "dy2 = 200 - cursor_y\n",
    "geometry.extend([encode_parameter_integer(dx2), encode_parameter_integer(dy2)])\n",
    "cursor_x, cursor_y = 200, 200\n",
    "\n",
    "# LineTo(100, 200) の相対座標 (-100, 0)\n",
    "dx3 = 100 - cursor_x\n",
    "dy3 = 200 - cursor_y\n",
    "geometry.extend([encode_parameter_integer(dx3), encode_parameter_integer(dy3)])\n",
    "cursor_x, cursor_y = 100, 200\n",
    "\n",
    "# 3. ClosePath\n",
    "cmd_close_path = encode_command_integer(7, 1)  # Command ID = 7 (ClosePath), Count = 1\n",
    "geometry.append(cmd_close_path)"
   ]
  },
  {
   "cell_type": "code",
   "execution_count": 8,
   "metadata": {},
   "outputs": [],
   "source": [
    "# エンコードされたジオメトリをフィーチャに追加\n",
    "feature.geometry.extend(geometry)"
   ]
  },
  {
   "cell_type": "code",
   "execution_count": 9,
   "metadata": {},
   "outputs": [],
   "source": [
    "# --- プロパティ (属性情報) の作成 ---\n",
    "# レイヤーのキーリストと値リストを作成\n",
    "keys = [\"name\", \"type\", \"area\"]\n",
    "values = [\n",
    "    vector_tile_pb2.Tile.Value(string_value=\"MyRectangle\"),\n",
    "    vector_tile_pb2.Tile.Value(string_value=\"debug\"),\n",
    "    vector_tile_pb2.Tile.Value(double_value=10000.0),  # 矩形の面積 (例)\n",
    "]"
   ]
  },
  {
   "cell_type": "code",
   "execution_count": 10,
   "metadata": {},
   "outputs": [],
   "source": [
    "# キーと値をレイヤーに追加\n",
    "layer.keys.extend(keys)\n",
    "layer.values.extend(values)"
   ]
  },
  {
   "cell_type": "code",
   "execution_count": 11,
   "metadata": {},
   "outputs": [],
   "source": [
    "# フィーチャのタグ (キーリストと値リストへのインデックス) を作成\n",
    "# tags = [key_index_1, value_index_1, key_index_2, value_index_2, ...]\n",
    "# \"name\" はインデックス 0, \"MyRectangle\" はインデックス 0\n",
    "# \"type\" はインデックス 1, \"debug\" はインデックス 1\n",
    "# \"area\" はインデックス 2, 10000.0 はインデックス 2\n",
    "feature.tags.extend([0, 0, 1, 1, 2, 2])\n",
    "\n",
    "# --- シリアライズしてファイルに書き込み ---\n",
    "mvt_data = tile.SerializeToString()"
   ]
  },
  {
   "cell_type": "code",
   "execution_count": 12,
   "metadata": {},
   "outputs": [
    {
     "name": "stdout",
     "output_type": "stream",
     "text": [
      "MVTファイル './14/8907/5509.mvt' を作成しました。\n"
     ]
    }
   ],
   "source": [
    "output_filename = \"./14/8907/5509.mvt\"\n",
    "try:\n",
    "    os.makedirs(os.path.dirname(output_filename), exist_ok=True)\n",
    "\n",
    "    with open(output_filename, \"wb\") as f:\n",
    "        f.write(mvt_data)\n",
    "    print(f\"MVTファイル '{output_filename}' を作成しました。\")\n",
    "except IOError as e:\n",
    "    print(f\"ファイル書き込みエラー: {e}\", file=sys.stderr)\n"
   ]
  }
 ],
 "metadata": {
  "kernelspec": {
   "display_name": ".venv",
   "language": "python",
   "name": "python3"
  },
  "language_info": {
   "codemirror_mode": {
    "name": "ipython",
    "version": 3
   },
   "file_extension": ".py",
   "mimetype": "text/x-python",
   "name": "python",
   "nbconvert_exporter": "python",
   "pygments_lexer": "ipython3",
   "version": "3.10.13"
  }
 },
 "nbformat": 4,
 "nbformat_minor": 2
}
